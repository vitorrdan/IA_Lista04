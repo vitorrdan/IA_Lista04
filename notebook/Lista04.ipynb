{
 "cells": [
  {
   "cell_type": "markdown",
   "id": "b24f4f2f",
   "metadata": {},
   "source": [
    "Inteligência Artificial \n",
    "\n",
    "813213 - Daniel Victor Rocha Costa\n",
    "\n",
    "Lista 4"
   ]
  },
  {
   "cell_type": "markdown",
   "id": "f9c7ce41",
   "metadata": {},
   "source": [
    "### Projeto: Implementação de Árvores de Decisão\n",
    " Este notebook está estruturado da seguinte forma:\n",
    "\n",
    "- **Seção 1**: Preparação dos Dados: Carregamento, limpeza, pré-processamento e divisão dos datasets Titanic e Play Tennis. As transformações específicas para cada algoritmo, como a discretização para o ID3, são realizadas e justificadas nesta etapa.\n",
    "\n",
    "- **Seção 2**: Análise dos Algoritmos e Resultados: Nesta seção, os três algoritmos implementados são treinados com os dados preparados. Para cada um, são apresentadas as saídas exigidas:\n",
    "\n",
    "    - A estrutura da árvore de decisão aprendida.\n",
    "\n",
    "    - A interpretação das regras geradas.\n",
    "\n",
    "    - As métricas de desempenho (Acurácia, Matriz de Confusão, etc.).\n",
    "\n",
    "- **Seção 3**: Comparação e Conclusão: Os resultados dos modelos são comparados e uma conclusão sobre o desempenho e as características de cada algoritmo é apresentada.\n",
    "\n",
    "- **Link para repositório dos códigos**: ...\n",
    "\n",
    "\n",
    "#### Setup Inicial: Importações e Instalação da Biblioteca\n",
    "- importando todas as bibliotecas necessárias. "
   ]
  },
  {
   "cell_type": "code",
   "execution_count": 2,
   "id": "a0ad0131",
   "metadata": {},
   "outputs": [
    {
     "name": "stdout",
     "output_type": "stream",
     "text": [
      "Collecting seaborn\n",
      "  Obtaining dependency information for seaborn from https://files.pythonhosted.org/packages/83/11/00d3c3dfc25ad54e731d91449895a79e4bf2384dc3ac01809010ba88f6d5/seaborn-0.13.2-py3-none-any.whl.metadata\n",
      "  Downloading seaborn-0.13.2-py3-none-any.whl.metadata (5.4 kB)\n",
      "Requirement already satisfied: numpy!=1.24.0,>=1.20 in c:\\users\\daniv\\appdata\\local\\programs\\orange\\lib\\site-packages (from seaborn) (1.24.4)\n",
      "Requirement already satisfied: pandas>=1.2 in c:\\users\\daniv\\appdata\\local\\programs\\orange\\lib\\site-packages (from seaborn) (1.5.3)\n",
      "Requirement already satisfied: matplotlib!=3.6.1,>=3.4 in c:\\users\\daniv\\appdata\\local\\programs\\orange\\lib\\site-packages (from seaborn) (3.8.0)\n",
      "Requirement already satisfied: contourpy>=1.0.1 in c:\\users\\daniv\\appdata\\local\\programs\\orange\\lib\\site-packages (from matplotlib!=3.6.1,>=3.4->seaborn) (1.1.1)\n",
      "Requirement already satisfied: cycler>=0.10 in c:\\users\\daniv\\appdata\\local\\programs\\orange\\lib\\site-packages (from matplotlib!=3.6.1,>=3.4->seaborn) (0.11.0)\n",
      "Requirement already satisfied: fonttools>=4.22.0 in c:\\users\\daniv\\appdata\\local\\programs\\orange\\lib\\site-packages (from matplotlib!=3.6.1,>=3.4->seaborn) (4.42.1)\n",
      "Requirement already satisfied: kiwisolver>=1.0.1 in c:\\users\\daniv\\appdata\\local\\programs\\orange\\lib\\site-packages (from matplotlib!=3.6.1,>=3.4->seaborn) (1.4.5)\n",
      "Requirement already satisfied: packaging>=20.0 in c:\\users\\daniv\\appdata\\local\\programs\\orange\\lib\\site-packages (from matplotlib!=3.6.1,>=3.4->seaborn) (23.1)\n",
      "Requirement already satisfied: pillow>=6.2.0 in c:\\users\\daniv\\appdata\\local\\programs\\orange\\lib\\site-packages (from matplotlib!=3.6.1,>=3.4->seaborn) (10.0.0)\n",
      "Requirement already satisfied: pyparsing>=2.3.1 in c:\\users\\daniv\\appdata\\local\\programs\\orange\\lib\\site-packages (from matplotlib!=3.6.1,>=3.4->seaborn) (3.1.1)\n",
      "Requirement already satisfied: python-dateutil>=2.7 in c:\\users\\daniv\\appdata\\local\\programs\\orange\\lib\\site-packages (from matplotlib!=3.6.1,>=3.4->seaborn) (2.8.2)\n",
      "Requirement already satisfied: importlib-resources>=3.2.0 in c:\\users\\daniv\\appdata\\local\\programs\\orange\\lib\\site-packages (from matplotlib!=3.6.1,>=3.4->seaborn) (6.1.0)\n",
      "Requirement already satisfied: pytz>=2020.1 in c:\\users\\daniv\\appdata\\local\\programs\\orange\\lib\\site-packages (from pandas>=1.2->seaborn) (2023.3.post1)\n",
      "Requirement already satisfied: zipp>=3.1.0 in c:\\users\\daniv\\appdata\\local\\programs\\orange\\lib\\site-packages (from importlib-resources>=3.2.0->matplotlib!=3.6.1,>=3.4->seaborn) (3.17.0)\n",
      "Requirement already satisfied: six>=1.5 in c:\\users\\daniv\\appdata\\local\\programs\\orange\\lib\\site-packages (from python-dateutil>=2.7->matplotlib!=3.6.1,>=3.4->seaborn) (1.16.0)\n",
      "Downloading seaborn-0.13.2-py3-none-any.whl (294 kB)\n",
      "   ---------------------------------------- 294.9/294.9 kB 1.4 MB/s eta 0:00:00\n",
      "Installing collected packages: seaborn\n",
      "Successfully installed seaborn-0.13.2\n",
      "Note: you may need to restart the kernel to use updated packages.\n"
     ]
    }
   ],
   "source": [
    "%pip install seaborn"
   ]
  },
  {
   "cell_type": "code",
   "execution_count": 6,
   "id": "1395ca49",
   "metadata": {},
   "outputs": [
    {
     "ename": "ModuleNotFoundError",
     "evalue": "No module named 'decision_tree_lib'",
     "output_type": "error",
     "traceback": [
      "\u001b[1;31m---------------------------------------------------------------------------\u001b[0m",
      "\u001b[1;31mModuleNotFoundError\u001b[0m                       Traceback (most recent call last)",
      "Input \u001b[1;32mIn [6]\u001b[0m, in \u001b[0;36m<cell line: 15>\u001b[1;34m()\u001b[0m\n\u001b[0;32m     12\u001b[0m \u001b[38;5;28;01mfrom\u001b[39;00m \u001b[38;5;21;01msklearn\u001b[39;00m \u001b[38;5;28;01mimport\u001b[39;00m tree\n\u001b[0;32m     14\u001b[0m \u001b[38;5;66;03m# Importando meus algoritmos\u001b[39;00m\n\u001b[1;32m---> 15\u001b[0m \u001b[38;5;28;01mfrom\u001b[39;00m \u001b[38;5;21;01mdecision_tree_lib\u001b[39;00m\u001b[38;5;21;01m.\u001b[39;00m\u001b[38;5;21;01mid3\u001b[39;00m \u001b[38;5;28;01mimport\u001b[39;00m ID3\n\u001b[0;32m     16\u001b[0m \u001b[38;5;28;01mfrom\u001b[39;00m \u001b[38;5;21;01mdecision_tree_lib\u001b[39;00m\u001b[38;5;21;01m.\u001b[39;00m\u001b[38;5;21;01mc45\u001b[39;00m \u001b[38;5;28;01mimport\u001b[39;00m C45\n\u001b[0;32m     17\u001b[0m \u001b[38;5;28;01mfrom\u001b[39;00m \u001b[38;5;21;01mdecision_tree_lib\u001b[39;00m\u001b[38;5;21;01m.\u001b[39;00m\u001b[38;5;21;01mcart\u001b[39;00m \u001b[38;5;28;01mimport\u001b[39;00m CART\n",
      "\u001b[1;31mModuleNotFoundError\u001b[0m: No module named 'decision_tree_lib'"
     ]
    }
   ],
   "source": [
    "# Importações gerais\n",
    "import pandas as pd\n",
    "import numpy as np\n",
    "import matplotlib.pyplot as plt\n",
    "import seaborn as sns\n",
    "import json # Para \"pretty-print\" das árvores\n",
    "\n",
    "# Importações do Scikit-learn para pré-processamento e métricas\n",
    "from sklearn.model_selection import train_test_split\n",
    "from sklearn.metrics import accuracy_score, classification_report, ConfusionMatrixDisplay\n",
    "from sklearn.tree import DecisionTreeClassifier\n",
    "from sklearn import tree\n",
    "\n",
    "# Importando meus algoritmos\n",
    "from decision_tree_lib.id3 import ID3\n",
    "from decision_tree_lib.c45 import C45\n",
    "from decision_tree_lib.cart import CART\n",
    "\n",
    "\n",
    "# Importando funções de pré-processamento\n",
    "from decision_tree_lib.preprocessing import clean_titanic_data, discretize_for_id3\n",
    "\n",
    "# Configurações visuais\n",
    "sns.set_style('whitegrid')\n",
    "plt.rcParams['figure.figsize'] = (12, 6)"
   ]
  },
  {
   "cell_type": "markdown",
   "id": "53eed12c",
   "metadata": {},
   "source": [
    "#### **Seção 1: Preparação dos Dados**\n",
    "- Nesta seção, realizaremos todo o tratamento necessário nos dados do Titanic para que possam ser utilizados pelos algoritmos.\n",
    "\n",
    " **1.1 Carregamento dos Dados**"
   ]
  },
  {
   "cell_type": "code",
   "execution_count": null,
   "id": "67bb6bf3",
   "metadata": {},
   "outputs": [],
   "source": [
    "# Carregando o dataset do Titanic\n",
    "df_titanic_raw = pd.read_csv('../data/train.csv')\n",
    "\n",
    "print(\"Informações iniciais do dataset Titanic:\")\n",
    "df_titanic_raw.info()\n",
    "\n",
    "print(\"\\n5 primeiras linhas:\")\n",
    "display(df_titanic_raw.head())"
   ]
  },
  {
   "cell_type": "markdown",
   "id": "f20d213b",
   "metadata": {},
   "source": [
    " **1.2 Limpeza e Pré-Processamento Geral**\n",
    "\n",
    "Aqui, utilizamos a função ``clean_titanic_data`` para tratar valores ausentes e converter dados categóricos. "
   ]
  },
  {
   "cell_type": "code",
   "execution_count": null,
   "id": "c55c462a",
   "metadata": {},
   "outputs": [],
   "source": [
    "# Aplicando a função de limpeza\n",
    "df_titanic_clean = clean_titanic_data(df_titanic_raw)\n",
    "\n",
    "print(\"Informações do dataset após a limpeza:\")\n",
    "df_titanic_clean.info()\n",
    "\n",
    "print(\"\\n5 primeiras linhas do dataset limpo:\")\n",
    "display(df_titanic_clean.head())"
   ]
  },
  {
   "cell_type": "markdown",
   "id": "b01b7f94",
   "metadata": {},
   "source": [
    "-  As **decisões** de preencher a idade (Age) com a mediana e o porto de embarque (Embarked) com a moda são estratégias padrão para lidar com dados faltantes. A mediana é preferível à média para a idade por ser menos sensível a valores extremos (outliers). As colunas de texto como Sex e Embarked foram convertidas para números para que os algoritmos C4.5 e CART possam processá-las."
   ]
  },
  {
   "cell_type": "markdown",
   "id": "611976d6",
   "metadata": {},
   "source": [
    "**1.3 Preparação Específica para ID3: Discretização**\n",
    "\n",
    "O algoritmo ID3 não lida com atributos contínuos. Portanto, precisamos converter as colunas numéricas Age e Fare em categorias.\n",
    "\n"
   ]
  },
  {
   "cell_type": "code",
   "execution_count": null,
   "id": "ca94efca",
   "metadata": {},
   "outputs": [],
   "source": [
    "# Aplicando a função de discretização\n",
    "df_titanic_id3 = discretize_for_id3(df_titanic_clean)\n",
    "\n",
    "print(\"5 primeiras linhas do dataset para o ID3:\")\n",
    "display(df_titanic_id3.head())"
   ]
  },
  {
   "cell_type": "markdown",
   "id": "4f91b932",
   "metadata": {},
   "source": [
    "- A **discretização** é um requisito do ID3. A idade foi dividida em faixas etárias lógicas (criança, adulto, idoso), e a tarifa (Fare) foi dividida por quantis (qcut), uma técnica eficaz para atributos com distribuição assimétrica, garantindo que cada categoria tenha um número similar de passageiros."
   ]
  },
  {
   "cell_type": "markdown",
   "id": "10195c7a",
   "metadata": {},
   "source": [
    "**1.4 Divisão em Conjuntos de Treino e Teste**\n",
    "\n",
    "Dividimos os dados em 80% para treino e 20% para teste. Usamos a estratificação para garantir que a proporção de sobreviventes seja a mesma em ambos os conjuntos"
   ]
  },
  {
   "cell_type": "code",
   "execution_count": null,
   "id": "c61621b0",
   "metadata": {},
   "outputs": [],
   "source": [
    "# Dados para C4.5 e CART (contínuos)\n",
    "X_cc = df_titanic_clean.drop('Survived', axis=1)\n",
    "y_cc = df_titanic_clean['Survived']\n",
    "X_train_cc, X_test_cc, y_train_cc, y_test_cc = train_test_split(X_cc, y_cc, test_size=0.2, random_state=42, stratify=y_cc)\n",
    "\n",
    "# Dados para ID3 (discretizados)\n",
    "X_id3 = df_titanic_id3.drop('Survived', axis=1)\n",
    "y_id3 = df_titanic_id3['Survived']\n",
    "X_train_id3, X_test_id3, y_train_id3, y_test_id3 = train_test_split(X_id3, y_id3, test_size=0.2, random_state=42, stratify=y_id3)\n",
    "\n",
    "print(f\"Tamanho do treino (C4.5/CART): {len(X_train_cc)} amostras\")\n",
    "print(f\"Tamanho do teste (C4.5/CART): {len(X_test_cc)} amostras\")\n",
    "print(f\"Tamanho do treino (ID3): {len(X_train_id3)} amostras\")\n",
    "print(f\"Tamanho do teste (ID3): {len(X_test_id3)} amostras\")"
   ]
  }
 ],
 "metadata": {
  "kernelspec": {
   "display_name": "Python 3",
   "language": "python",
   "name": "python3"
  },
  "language_info": {
   "codemirror_mode": {
    "name": "ipython",
    "version": 3
   },
   "file_extension": ".py",
   "mimetype": "text/x-python",
   "name": "python",
   "nbconvert_exporter": "python",
   "pygments_lexer": "ipython3",
   "version": "3.9.12"
  }
 },
 "nbformat": 4,
 "nbformat_minor": 5
}
